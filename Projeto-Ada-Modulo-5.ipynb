{
 "cells": [
  {
   "cell_type": "markdown",
   "metadata": {},
   "source": [
    "Indicadores de desenvolvimento humano\n",
    "- Saude \n",
    "- Educacao\n",
    "- Economia\n",
    "- Infraestrutura\n",
    "\n",
    "Fonte: Atlas do Desenvolvimento Humano (http://www.atlasbrasil.org.br/acervo/biblioteca)"
   ]
  },
  {
   "cell_type": "code",
   "execution_count": 3,
   "metadata": {},
   "outputs": [
    {
     "ename": "ValueError",
     "evalue": "Excel file format cannot be determined, you must specify an engine manually.",
     "output_type": "error",
     "traceback": [
      "\u001b[0;31m---------------------------------------------------------------------------\u001b[0m",
      "\u001b[0;31mValueError\u001b[0m                                Traceback (most recent call last)",
      "\u001b[1;32m/Users/felipemeirelles/Desktop/Projeto-Ada-Modulo-5.ipynb Célula: 2\u001b[0m in \u001b[0;36m<cell line: 7>\u001b[0;34m()\u001b[0m\n\u001b[1;32m      <a href='vscode-notebook-cell:/Users/felipemeirelles/Desktop/Projeto-Ada-Modulo-5.ipynb#W0sZmlsZQ%3D%3D?line=2'>3</a>\u001b[0m engine \u001b[39m=\u001b[39m \u001b[39m'\u001b[39m\u001b[39mxlrd\u001b[39m\u001b[39m'\u001b[39m\n\u001b[1;32m      <a href='vscode-notebook-cell:/Users/felipemeirelles/Desktop/Projeto-Ada-Modulo-5.ipynb#W0sZmlsZQ%3D%3D?line=4'>5</a>\u001b[0m url_total \u001b[39m=\u001b[39m \u001b[39m'\u001b[39m\u001b[39mhttps://github.com/felipe-meirelles/Projeto-Ada-Modulo-5/blob/fd84cb98ed00fdd4beb47d1c9060d105c59d63ea/dados_registros_administrativos_total_2012_2017.xlsx.xlsx\u001b[39m\u001b[39m'\u001b[39m\n\u001b[0;32m----> <a href='vscode-notebook-cell:/Users/felipemeirelles/Desktop/Projeto-Ada-Modulo-5.ipynb#W0sZmlsZQ%3D%3D?line=6'>7</a>\u001b[0m base_total \u001b[39m=\u001b[39m pd\u001b[39m.\u001b[39;49mExcelFile(url_total)\n\u001b[1;32m      <a href='vscode-notebook-cell:/Users/felipemeirelles/Desktop/Projeto-Ada-Modulo-5.ipynb#W0sZmlsZQ%3D%3D?line=8'>9</a>\u001b[0m \u001b[39mfor\u001b[39;00m sheet_name \u001b[39min\u001b[39;00m base_total\u001b[39m.\u001b[39msheet_names:\n\u001b[1;32m     <a href='vscode-notebook-cell:/Users/felipemeirelles/Desktop/Projeto-Ada-Modulo-5.ipynb#W0sZmlsZQ%3D%3D?line=9'>10</a>\u001b[0m     \u001b[39m# read the sheet data into a dataframe\u001b[39;00m\n\u001b[1;32m     <a href='vscode-notebook-cell:/Users/felipemeirelles/Desktop/Projeto-Ada-Modulo-5.ipynb#W0sZmlsZQ%3D%3D?line=10'>11</a>\u001b[0m     df \u001b[39m=\u001b[39m pd\u001b[39m.\u001b[39mread_excel(base_total, sheet_name\u001b[39m=\u001b[39msheet_name, engine\u001b[39m=\u001b[39mengine)\n",
      "File \u001b[0;32m~/opt/anaconda3/lib/python3.9/site-packages/pandas/io/excel/_base.py:1380\u001b[0m, in \u001b[0;36mExcelFile.__init__\u001b[0;34m(self, path_or_buffer, engine, storage_options)\u001b[0m\n\u001b[1;32m   1376\u001b[0m     ext \u001b[39m=\u001b[39m inspect_excel_format(\n\u001b[1;32m   1377\u001b[0m         content_or_path\u001b[39m=\u001b[39mpath_or_buffer, storage_options\u001b[39m=\u001b[39mstorage_options\n\u001b[1;32m   1378\u001b[0m     )\n\u001b[1;32m   1379\u001b[0m     \u001b[39mif\u001b[39;00m ext \u001b[39mis\u001b[39;00m \u001b[39mNone\u001b[39;00m:\n\u001b[0;32m-> 1380\u001b[0m         \u001b[39mraise\u001b[39;00m \u001b[39mValueError\u001b[39;00m(\n\u001b[1;32m   1381\u001b[0m             \u001b[39m\"\u001b[39m\u001b[39mExcel file format cannot be determined, you must specify \u001b[39m\u001b[39m\"\u001b[39m\n\u001b[1;32m   1382\u001b[0m             \u001b[39m\"\u001b[39m\u001b[39man engine manually.\u001b[39m\u001b[39m\"\u001b[39m\n\u001b[1;32m   1383\u001b[0m         )\n\u001b[1;32m   1385\u001b[0m engine \u001b[39m=\u001b[39m config\u001b[39m.\u001b[39mget_option(\u001b[39mf\u001b[39m\u001b[39m\"\u001b[39m\u001b[39mio.excel.\u001b[39m\u001b[39m{\u001b[39;00mext\u001b[39m}\u001b[39;00m\u001b[39m.reader\u001b[39m\u001b[39m\"\u001b[39m, silent\u001b[39m=\u001b[39m\u001b[39mTrue\u001b[39;00m)\n\u001b[1;32m   1386\u001b[0m \u001b[39mif\u001b[39;00m engine \u001b[39m==\u001b[39m \u001b[39m\"\u001b[39m\u001b[39mauto\u001b[39m\u001b[39m\"\u001b[39m:\n",
      "\u001b[0;31mValueError\u001b[0m: Excel file format cannot be determined, you must specify an engine manually."
     ]
    }
   ],
   "source": [
    "import pandas as pd\n",
    "\n",
    "base_total = pd.ExcelFile(url_total)\n",
    "\n",
    "for sheet_name in base_total.sheet_names:\n",
    "    # read the sheet data into a dataframe\n",
    "    df = pd.read_excel(base_total, sheet_name=sheet_name)\n",
    "    # do some processing on the dataframe\n",
    "    # ...\n",
    "    # create a new dataframe for each sheet\n",
    "    globals()[sheet_name] = df\n"
   ]
  }
 ],
 "metadata": {
  "kernelspec": {
   "display_name": "Python 3.9.12 ('base')",
   "language": "python",
   "name": "python3"
  },
  "language_info": {
   "codemirror_mode": {
    "name": "ipython",
    "version": 3
   },
   "file_extension": ".py",
   "mimetype": "text/x-python",
   "name": "python",
   "nbconvert_exporter": "python",
   "pygments_lexer": "ipython3",
   "version": "3.9.12"
  },
  "orig_nbformat": 4,
  "vscode": {
   "interpreter": {
    "hash": "9f03358d37e5a0b17f159455d2c46e8df563d38c15f327ee8cafa31c05034d5a"
   }
  }
 },
 "nbformat": 4,
 "nbformat_minor": 2
}
